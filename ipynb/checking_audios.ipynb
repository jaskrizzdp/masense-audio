{
 "cells": [
  {
   "cell_type": "code",
   "execution_count": null,
   "metadata": {},
   "outputs": [],
   "source": [
    "# Check duration and samples\n",
    "\n",
    "from pydub import AudioSegment\n",
    "import numpy as np\n",
    "\n",
    "def get_audio_info(file_path):\n",
    "    # Load the audio file\n",
    "    audio = AudioSegment.from_file(file_path)\n",
    "    \n",
    "    # Get duration in seconds\n",
    "    duration_ms = len(audio)\n",
    "    duration_sec = duration_ms / 1000\n",
    "    \n",
    "    # Get number of samples\n",
    "    samples = np.array(audio.get_array_of_samples())\n",
    "    num_samples = len(samples)\n",
    "    \n",
    "    return duration_sec, num_samples\n",
    "\n",
    "file_path = \"/home/masense/projects/ai8x-training/data/AudioAutoencoder/raw/fan/id_chunked00/00000000.wav\"\n",
    "duration, num_samples = get_audio_info(file_path)\n",
    "\n",
    "print(f\"Duration: {duration} seconds\")\n",
    "print(f\"Number of samples: {num_samples}\")"
   ]
  },
  {
   "cell_type": "code",
   "execution_count": null,
   "metadata": {},
   "outputs": [],
   "source": [
    "from pydub import AudioSegment\n",
    "\n",
    "def get_audio_info(file_path):\n",
    "    # Load the audio file\n",
    "    audio = AudioSegment.from_file(file_path)\n",
    "    \n",
    "    # Get the sample rate (sampling frequency)\n",
    "    sample_rate = audio.frame_rate\n",
    "    \n",
    "    # Get the duration in seconds\n",
    "    duration_ms = len(audio)\n",
    "    duration_sec = duration_ms / 1000\n",
    "    \n",
    "    return sample_rate, duration_sec\n",
    "\n",
    "file_path = \"/home/masense/projects/ai8x-training/data/AudioAutoencoder/raw/fan/id_chunked00/00000000.wav\"\n",
    "sample_rate, duration = get_audio_info(file_path)\n",
    "\n",
    "print(f\"Sample Rate: {sample_rate} Hz\")\n",
    "print(f\"Duration: {duration} seconds\")"
   ]
  },
  {
   "cell_type": "code",
   "execution_count": null,
   "metadata": {},
   "outputs": [],
   "source": [
    "import librosa\n",
    "import soundfile as sf\n",
    "\n",
    "def check_audio_channels(file_path):\n",
    "    # Using librosa to load audio file\n",
    "    audio, sr = librosa.load(file_path, sr=None, mono=False)\n",
    "    \n",
    "    # Checking number of channels\n",
    "    if audio.ndim == 1:\n",
    "        print(f\"The audio file '{file_path}' is mono.\")\n",
    "    elif audio.ndim == 2:\n",
    "        print(f\"The audio file '{file_path}' is stereo.\")\n",
    "    else:\n",
    "        print(f\"The audio file '{file_path}' has {audio.ndim} channels.\")\n",
    "\n",
    "    # Alternatively, using soundfile\n",
    "    with sf.SoundFile(file_path) as f:\n",
    "        num_channels = f.channels\n",
    "        print(f\"The audio file '{file_path}' has {num_channels} channels.\")\n",
    "\n",
    "# Example usage\n",
    "file_path = '/home/masense/projects/ai8x-training/data/AudioAutoencoder/raw/fan/id_chunked00/00000000.wav'\n",
    "check_audio_channels(file_path)"
   ]
  }
 ],
 "metadata": {
  "kernelspec": {
   "display_name": "Python 3",
   "language": "python",
   "name": "python3"
  },
  "language_info": {
   "name": "python",
   "version": "3.6.6"
  }
 },
 "nbformat": 4,
 "nbformat_minor": 2
}
