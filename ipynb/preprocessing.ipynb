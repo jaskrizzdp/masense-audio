{
 "cells": [
  {
   "cell_type": "code",
   "execution_count": null,
   "metadata": {},
   "outputs": [],
   "source": [
    "import os\n",
    "import numpy as np\n",
    "import librosa\n",
    "import soundfile as sf\n",
    "\n",
    "\n",
    "def preprocess_audio(audio_path, target_len=256, duration_sec=2):\n",
    "    audio_data, sample_rate = librosa.load(audio_path, sr=16000)\n",
    "    \n",
    "    num_samples = int(duration_sec * sample_rate) \n",
    "   \n",
    "    if len(audio_data) > num_samples:\n",
    "        audio_data = audio_data[:num_samples]\n",
    "    else:\n",
    "        audio_data = np.pad(audio_data, (0, num_samples - len(audio_data)))\n",
    "    \n",
    "    # Convert audio to frequency domain\n",
    "    audio_data = np.abs(librosa.stft(audio_data, n_fft=512, hop_length=256))[:target_len]\n",
    "    \n",
    "    # Transpose the data to fit the expected input dimensions // [target_len, 1] - matching [BATCH_SZ, FFT_LEN, N_AXES]\n",
    "    audio_data = audio_data.T\n",
    "    \n",
    "    return audio_data\n",
    "\n",
    "def process_and_save_audio(input_folder, output_folder, target_len=256, duration_sec=2):\n",
    "    os.makedirs(output_folder, exist_ok=True)\n",
    "\n",
    "    for filename in os.listdir(input_folder):\n",
    "        if filename.endswith('.wav'):\n",
    "            input_path = os.path.join(input_folder, filename)\n",
    "            output_path = os.path.join(output_folder, filename)\n",
    "            preprocessed_audio = preprocess_audio(input_path, target_len, duration_sec)\n",
    "            audio_flattened = preprocessed_audio.flatten()\n",
    "            sf.write(output_path, audio_flattened, 16000)\n",
    "            print(f\"Processed and saved: {output_path}\")\n",
    "\n",
    "\n",
    "input_folder = '/home/masense/projects/ai8x-training/data/AudioAutoencoder/raw/fan/id_00/orig'\n",
    "output_folder = '/home/masense/projects/ai8x-training/data/AudioAutoencoder/raw/fan/id_00/normal'\n",
    "process_and_save_audio(input_folder, output_folder)\n"
   ]
  }
 ],
 "metadata": {
  "language_info": {
   "name": "python"
  }
 },
 "nbformat": 4,
 "nbformat_minor": 2
}
