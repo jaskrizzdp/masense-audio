{
 "cells": [
  {
   "cell_type": "code",
   "execution_count": null,
   "metadata": {},
   "outputs": [],
   "source": [
    "import os\n",
    "import numpy as np\n",
    "import scipy.io.wavfile as wavfile\n",
    "\n",
    "\n",
    "input_folder = '/home/masense/projects/ai8x-training/data/AudioAutoencoder/raw/fan/id_00/normal'\n",
    "output_folder = '/home/masense/projects/ai8x-training/data/AudioAutoencoder/raw/fan/id_chunked00'\n",
    "\n",
    "os.makedirs(output_folder, exist_ok=True)\n",
    "\n",
    "def preprocess_audio(file_path, output_path):\n",
    "    sample_rate, audio_data = wavfile.read(file_path)  \n",
    "    \n",
    "    \n",
    "    # Check if audio data is 1D or 2D (mono or stereo)\n",
    "    if len(audio_data.shape) > 1:\n",
    "        audio_data = audio_data[:, 0] \n",
    "\n",
    "    # Preprocess and reshape data\n",
    "    chunk_size = 128 * 128\n",
    "    num_chunks = len(audio_data) // chunk_size\n",
    "    reshaped_data = audio_data[:num_chunks * chunk_size].reshape(num_chunks, 128, 128)\n",
    "\n",
    "    if len(audio_data) % chunk_size != 0:\n",
    "        extra_data = audio_data[num_chunks * chunk_size:]\n",
    "        extra_data_padded = np.pad(extra_data, (0, chunk_size - len(extra_data)), 'constant')\n",
    "        reshaped_data = np.append(reshaped_data, extra_data_padded.reshape(-1, 128, 128), axis=0)\n",
    "\n",
    "    # Adjust channels\n",
    "    reshaped_data = np.expand_dims(reshaped_data, axis=1)  \n",
    "    reshaped_data = np.repeat(reshaped_data, 128, axis=1) \n",
    "    \n",
    "    # Flatten the data to save as a single WAV file\n",
    "    reshaped_data_flat = reshaped_data.flatten()\n",
    "    \n",
    "    # Save the processed data as a WAV file\n",
    "    wavfile.write(output_path, sample_rate, reshaped_data_flat.astype(np.int16))\n",
    "\n",
    "def process_all_files(input_folder, output_folder):\n",
    "    for file_name in os.listdir(input_folder):\n",
    "        if file_name.endswith('.wav'): \n",
    "            file_path = os.path.join(input_folder, file_name)\n",
    "            output_file_name = os.path.splitext(file_name)[0] + '_processed.wav'\n",
    "            output_path = os.path.join(output_folder, output_file_name)\n",
    "            preprocess_audio(file_path, output_path)\n",
    "            print(f'Processed {file_name} and saved to {output_file_name}')\n",
    "\n",
    "process_all_files(input_folder, output_folder)"
   ]
  }
 ],
 "metadata": {
  "language_info": {
   "name": "python"
  }
 },
 "nbformat": 4,
 "nbformat_minor": 2
}
